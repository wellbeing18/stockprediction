{
 "cells": [
  {
   "cell_type": "code",
   "execution_count": 1,
   "metadata": {},
   "outputs": [],
   "source": [
    "import pandas as pd\n",
    "import numpy as np\n",
    "import lightgbm as lgb\n",
    "import matplotlib.pyplot as plt"
   ]
  },
  {
   "cell_type": "code",
   "execution_count": 2,
   "metadata": {},
   "outputs": [],
   "source": [
    "market_data=pd.read_csv('marketdataprocesssed.csv')\n",
    "news_data=pd.read_csv('newsdatapreprocessed.csv')"
   ]
  },
  {
   "cell_type": "code",
   "execution_count": 3,
   "metadata": {},
   "outputs": [],
   "source": [
    "market_data=market_data.iloc[:,1:-1]"
   ]
  },
  {
   "cell_type": "code",
   "execution_count": 4,
   "metadata": {},
   "outputs": [
    {
     "data": {
      "text/html": [
       "<div>\n",
       "<style scoped>\n",
       "    .dataframe tbody tr th:only-of-type {\n",
       "        vertical-align: middle;\n",
       "    }\n",
       "\n",
       "    .dataframe tbody tr th {\n",
       "        vertical-align: top;\n",
       "    }\n",
       "\n",
       "    .dataframe thead th {\n",
       "        text-align: right;\n",
       "    }\n",
       "</style>\n",
       "<table border=\"1\" class=\"dataframe\">\n",
       "  <thead>\n",
       "    <tr style=\"text-align: right;\">\n",
       "      <th></th>\n",
       "      <th>time</th>\n",
       "      <th>assetCode</th>\n",
       "      <th>assetName</th>\n",
       "      <th>volume</th>\n",
       "      <th>close</th>\n",
       "      <th>open</th>\n",
       "      <th>returnsClosePrevRaw1</th>\n",
       "      <th>returnsOpenPrevRaw1</th>\n",
       "      <th>returnsClosePrevMktres1</th>\n",
       "      <th>returnsOpenPrevMktres1</th>\n",
       "      <th>returnsClosePrevRaw10</th>\n",
       "      <th>returnsOpenPrevRaw10</th>\n",
       "      <th>returnsClosePrevMktres10</th>\n",
       "      <th>returnsOpenPrevMktres10</th>\n",
       "      <th>returnsOpenNextMktres10</th>\n",
       "      <th>universe</th>\n",
       "    </tr>\n",
       "  </thead>\n",
       "  <tbody>\n",
       "    <tr>\n",
       "      <th>0</th>\n",
       "      <td>2009-01-02</td>\n",
       "      <td>A.N</td>\n",
       "      <td>Agilent Technologies Inc</td>\n",
       "      <td>3030118.0</td>\n",
       "      <td>16.24</td>\n",
       "      <td>15.60</td>\n",
       "      <td>0.039028</td>\n",
       "      <td>0.045576</td>\n",
       "      <td>0.029112</td>\n",
       "      <td>0.042122</td>\n",
       "      <td>-0.005511</td>\n",
       "      <td>-0.037037</td>\n",
       "      <td>-0.026992</td>\n",
       "      <td>-0.033293</td>\n",
       "      <td>0.179633</td>\n",
       "      <td>True</td>\n",
       "    </tr>\n",
       "    <tr>\n",
       "      <th>1</th>\n",
       "      <td>2009-01-02</td>\n",
       "      <td>AAI.N</td>\n",
       "      <td>AirTran Holdings Inc</td>\n",
       "      <td>1551494.0</td>\n",
       "      <td>4.51</td>\n",
       "      <td>4.36</td>\n",
       "      <td>0.015766</td>\n",
       "      <td>-0.035398</td>\n",
       "      <td>-0.018756</td>\n",
       "      <td>-0.047927</td>\n",
       "      <td>0.127500</td>\n",
       "      <td>0.141361</td>\n",
       "      <td>0.110937</td>\n",
       "      <td>0.144485</td>\n",
       "      <td>0.048476</td>\n",
       "      <td>False</td>\n",
       "    </tr>\n",
       "    <tr>\n",
       "      <th>2</th>\n",
       "      <td>2009-01-02</td>\n",
       "      <td>AAP.N</td>\n",
       "      <td>Advance Auto Parts Inc</td>\n",
       "      <td>795900.0</td>\n",
       "      <td>34.14</td>\n",
       "      <td>33.86</td>\n",
       "      <td>0.014562</td>\n",
       "      <td>0.022652</td>\n",
       "      <td>-0.010692</td>\n",
       "      <td>0.009156</td>\n",
       "      <td>0.035283</td>\n",
       "      <td>0.047398</td>\n",
       "      <td>-0.005260</td>\n",
       "      <td>0.054363</td>\n",
       "      <td>0.029782</td>\n",
       "      <td>True</td>\n",
       "    </tr>\n",
       "  </tbody>\n",
       "</table>\n",
       "</div>"
      ],
      "text/plain": [
       "         time assetCode                 assetName     volume  close   open  \\\n",
       "0  2009-01-02       A.N  Agilent Technologies Inc  3030118.0  16.24  15.60   \n",
       "1  2009-01-02     AAI.N      AirTran Holdings Inc  1551494.0   4.51   4.36   \n",
       "2  2009-01-02     AAP.N    Advance Auto Parts Inc   795900.0  34.14  33.86   \n",
       "\n",
       "   returnsClosePrevRaw1  returnsOpenPrevRaw1  returnsClosePrevMktres1  \\\n",
       "0              0.039028             0.045576                 0.029112   \n",
       "1              0.015766            -0.035398                -0.018756   \n",
       "2              0.014562             0.022652                -0.010692   \n",
       "\n",
       "   returnsOpenPrevMktres1  returnsClosePrevRaw10  returnsOpenPrevRaw10  \\\n",
       "0                0.042122              -0.005511             -0.037037   \n",
       "1               -0.047927               0.127500              0.141361   \n",
       "2                0.009156               0.035283              0.047398   \n",
       "\n",
       "   returnsClosePrevMktres10  returnsOpenPrevMktres10  returnsOpenNextMktres10  \\\n",
       "0                 -0.026992                -0.033293                 0.179633   \n",
       "1                  0.110937                 0.144485                 0.048476   \n",
       "2                 -0.005260                 0.054363                 0.029782   \n",
       "\n",
       "   universe  \n",
       "0      True  \n",
       "1     False  \n",
       "2      True  "
      ]
     },
     "execution_count": 4,
     "metadata": {},
     "output_type": "execute_result"
    }
   ],
   "source": [
    "market_data.head(3)"
   ]
  },
  {
   "cell_type": "code",
   "execution_count": 5,
   "metadata": {},
   "outputs": [],
   "source": [
    "for columnname in market_data.columns:\n",
    "    if market_data[columnname].dtype=='float64':\n",
    "        market_data[columnname]=market_data[columnname].astype('float32')"
   ]
  },
  {
   "cell_type": "code",
   "execution_count": 6,
   "metadata": {},
   "outputs": [],
   "source": [
    "market_data['time'] =  pd.to_datetime(market_data['time'], format='%Y-%m-%d')"
   ]
  },
  {
   "cell_type": "code",
   "execution_count": 7,
   "metadata": {},
   "outputs": [],
   "source": [
    "market_data['assetName']=market_data['assetName'].astype('category')\n",
    "market_data['assetCode']=market_data['assetCode'].astype('category')\n",
    "market_data['universe'] = market_data['universe'].astype('bool')"
   ]
  },
  {
   "cell_type": "code",
   "execution_count": 8,
   "metadata": {},
   "outputs": [],
   "source": [
    "news_data.drop(['noveltyCount12H','volumeCounts12H'], axis=1, inplace=True)"
   ]
  },
  {
   "cell_type": "code",
   "execution_count": 9,
   "metadata": {},
   "outputs": [],
   "source": [
    "for columnname in news_data.columns:\n",
    "    if news_data[columnname].dtype=='float64':\n",
    "        news_data[columnname]=news_data[columnname].astype('float32')\n",
    "    elif news_data[columnname].dtype=='int64':\n",
    "        news_data[columnname]=news_data[columnname].astype('int32')\n",
    "news_data['urgency']=news_data['urgency'].astype('int8')\n",
    "news_data['time'] =  pd.to_datetime(news_data['time'], format='%Y-%m-%d')\n"
   ]
  },
  {
   "cell_type": "code",
   "execution_count": 10,
   "metadata": {},
   "outputs": [],
   "source": [
    "news_data=news_data.iloc[:,1:]"
   ]
  },
  {
   "cell_type": "code",
   "execution_count": 11,
   "metadata": {},
   "outputs": [],
   "source": [
    "def preprocess_news(news_train):\n",
    "    # Remove {} and '' from assetCodes column\n",
    "    news_train['assetCodes'] = news_train['assetCodes'].apply(lambda x: x[1:-1].replace(\"'\", \"\"))\n",
    "    return news_train\n",
    "\n",
    "news_data = preprocess_news(news_data)"
   ]
  },
  {
   "cell_type": "code",
   "execution_count": 12,
   "metadata": {},
   "outputs": [],
   "source": [
    "def unstack_asset_codes(news_train):\n",
    "    codes = []\n",
    "    indexes = []\n",
    "    for i, values in news_train['assetCodes'].iteritems():\n",
    "        explode = values.split(\", \")\n",
    "        codes.extend(explode)\n",
    "        repeat_index = [int(i)]*len(explode)\n",
    "        indexes.extend(repeat_index)\n",
    "    index_df = pd.DataFrame({'news_index': indexes, 'assetCode': codes})\n",
    "    del codes, indexes\n",
    "    return index_df\n",
    "\n",
    "index_df = unstack_asset_codes(news_data)\n",
    "\n",
    "def merge_news_on_index(news_train, index_df):\n",
    "    news_train['news_index'] = news_train.index.copy()\n",
    "\n",
    "    # Merge news on unstacked assets\n",
    "    news_unstack = index_df.merge(news_train, how='left', on='news_index')\n",
    "    news_unstack.drop(['news_index', 'assetCodes'], axis=1, inplace=True)\n",
    "    return news_unstack\n",
    "\n",
    "news_data = merge_news_on_index(news_data, index_df)\n",
    "del  index_df\n"
   ]
  },
  {
   "cell_type": "code",
   "execution_count": 13,
   "metadata": {},
   "outputs": [
    {
     "data": {
      "text/plain": [
       "Timestamp('2016-12-30 22:00:00')"
      ]
     },
     "execution_count": 13,
     "metadata": {},
     "output_type": "execute_result"
    }
   ],
   "source": [
    "news_data.time.max()\n"
   ]
  },
  {
   "cell_type": "code",
   "execution_count": 14,
   "metadata": {},
   "outputs": [
    {
     "data": {
      "text/plain": [
       "Timestamp('2009-01-01 00:25:02')"
      ]
     },
     "execution_count": 14,
     "metadata": {},
     "output_type": "execute_result"
    }
   ],
   "source": [
    "news_data.time.min()"
   ]
  },
  {
   "cell_type": "code",
   "execution_count": 15,
   "metadata": {},
   "outputs": [
    {
     "data": {
      "text/plain": [
       "13205"
      ]
     },
     "execution_count": 15,
     "metadata": {},
     "output_type": "execute_result"
    }
   ],
   "source": [
    "news_data.assetCode.nunique()"
   ]
  },
  {
   "cell_type": "code",
   "execution_count": 16,
   "metadata": {},
   "outputs": [],
   "source": [
    "news_data.drop_duplicates(subset=['time','assetCode','assetName'],inplace=True)"
   ]
  },
  {
   "cell_type": "code",
   "execution_count": 17,
   "metadata": {},
   "outputs": [
    {
     "data": {
      "text/plain": [
       "[A.N, AAI.N, AAP.N, AAPL.O, AB.N, ..., MTGE.O, SITE.N, FCB.N, AMC.N, CVGW.O]\n",
       "Length: 3464\n",
       "Categories (3464, object): [A.N, AAI.N, AAP.N, AAPL.O, ..., SITE.N, FCB.N, AMC.N, CVGW.O]"
      ]
     },
     "execution_count": 17,
     "metadata": {},
     "output_type": "execute_result"
    }
   ],
   "source": [
    "market_data.assetCode.unique()"
   ]
  },
  {
   "cell_type": "code",
   "execution_count": 18,
   "metadata": {},
   "outputs": [
    {
     "data": {
      "text/plain": [
       "(14271734, 19)"
      ]
     },
     "execution_count": 18,
     "metadata": {},
     "output_type": "execute_result"
    }
   ],
   "source": [
    "news_data.shape"
   ]
  },
  {
   "cell_type": "code",
   "execution_count": 19,
   "metadata": {},
   "outputs": [
    {
     "data": {
      "text/plain": [
       "(3340140, 16)"
      ]
     },
     "execution_count": 19,
     "metadata": {},
     "output_type": "execute_result"
    }
   ],
   "source": [
    "market_data.shape"
   ]
  },
  {
   "cell_type": "code",
   "execution_count": 20,
   "metadata": {},
   "outputs": [],
   "source": [
    "news_data=news_data[news_data['assetCode'].isin(market_data.assetCode.unique())]"
   ]
  },
  {
   "cell_type": "code",
   "execution_count": 21,
   "metadata": {},
   "outputs": [],
   "source": [
    "df = market_data.merge(news_data, how='left', on=['assetCode', 'time', 'assetName'])\n",
    "del market_data, news_data\n"
   ]
  },
  {
   "cell_type": "code",
   "execution_count": 22,
   "metadata": {},
   "outputs": [
    {
     "data": {
      "text/plain": [
       "(3340140, 32)"
      ]
     },
     "execution_count": 22,
     "metadata": {},
     "output_type": "execute_result"
    }
   ],
   "source": [
    "df.shape"
   ]
  },
  {
   "cell_type": "code",
   "execution_count": 23,
   "metadata": {},
   "outputs": [],
   "source": [
    "df_train=df[df.time<=pd.Timestamp(2015,6,1)]\n",
    "df_test=df[df.time>pd.Timestamp(2015,6,1)]"
   ]
  },
  {
   "cell_type": "code",
   "execution_count": 24,
   "metadata": {},
   "outputs": [],
   "source": [
    "del df"
   ]
  },
  {
   "cell_type": "code",
   "execution_count": 25,
   "metadata": {},
   "outputs": [
    {
     "data": {
      "text/plain": [
       "78.51368505511745"
      ]
     },
     "execution_count": 25,
     "metadata": {},
     "output_type": "execute_result"
    }
   ],
   "source": [
    "np.shape(df_train)[0]*100/3340140"
   ]
  },
  {
   "cell_type": "code",
   "execution_count": 26,
   "metadata": {},
   "outputs": [
    {
     "name": "stdout",
     "output_type": "stream",
     "text": [
      "<class 'pandas.core.frame.DataFrame'>\n",
      "Int64Index: 2622467 entries, 0 to 2622466\n",
      "Data columns (total 32 columns):\n",
      "time                        datetime64[ns]\n",
      "assetCode                   object\n",
      "assetName                   object\n",
      "volume                      float32\n",
      "close                       float32\n",
      "open                        float32\n",
      "returnsClosePrevRaw1        float32\n",
      "returnsOpenPrevRaw1         float32\n",
      "returnsClosePrevMktres1     float32\n",
      "returnsOpenPrevMktres1      float32\n",
      "returnsClosePrevRaw10       float32\n",
      "returnsOpenPrevRaw10        float32\n",
      "returnsClosePrevMktres10    float32\n",
      "returnsOpenPrevMktres10     float32\n",
      "returnsOpenNextMktres10     float32\n",
      "universe                    bool\n",
      "urgency                     float64\n",
      "bodySize                    float64\n",
      "companyCount                float64\n",
      "marketCommentary            object\n",
      "sentenceCount               float64\n",
      "wordCount                   float64\n",
      "relevance                   float32\n",
      "sentimentClass              float64\n",
      "sentimentNegative           float32\n",
      "sentimentNeutral            float32\n",
      "sentimentPositive           float32\n",
      "sentimentWordCount          float64\n",
      "noveltyCount3D              float64\n",
      "volumeCounts3D              float64\n",
      "delay_time                  object\n",
      "headlinelength              float64\n",
      "dtypes: bool(1), datetime64[ns](1), float32(16), float64(10), object(4)\n",
      "memory usage: 482.7+ MB\n"
     ]
    }
   ],
   "source": [
    "df_train.info()"
   ]
  },
  {
   "cell_type": "code",
   "execution_count": 27,
   "metadata": {},
   "outputs": [],
   "source": [
    "df_train.drop(['delay_time'],axis=1,inplace=True)\n",
    "df_test.drop(['delay_time'],axis=1,inplace=True)"
   ]
  },
  {
   "cell_type": "code",
   "execution_count": 28,
   "metadata": {},
   "outputs": [],
   "source": [
    "nullcols=df_train.returnsClosePrevMktres1.isnull()"
   ]
  },
  {
   "cell_type": "code",
   "execution_count": 29,
   "metadata": {},
   "outputs": [
    {
     "data": {
      "text/html": [
       "<div>\n",
       "<style scoped>\n",
       "    .dataframe tbody tr th:only-of-type {\n",
       "        vertical-align: middle;\n",
       "    }\n",
       "\n",
       "    .dataframe tbody tr th {\n",
       "        vertical-align: top;\n",
       "    }\n",
       "\n",
       "    .dataframe thead th {\n",
       "        text-align: right;\n",
       "    }\n",
       "</style>\n",
       "<table border=\"1\" class=\"dataframe\">\n",
       "  <thead>\n",
       "    <tr style=\"text-align: right;\">\n",
       "      <th></th>\n",
       "      <th>time</th>\n",
       "      <th>assetCode</th>\n",
       "      <th>returnsClosePrevMktres1</th>\n",
       "    </tr>\n",
       "  </thead>\n",
       "  <tbody>\n",
       "    <tr>\n",
       "      <th>167</th>\n",
       "      <td>2009-01-02</td>\n",
       "      <td>BBND.O</td>\n",
       "      <td>NaN</td>\n",
       "    </tr>\n",
       "    <tr>\n",
       "      <th>739</th>\n",
       "      <td>2009-01-02</td>\n",
       "      <td>IIVI.O</td>\n",
       "      <td>NaN</td>\n",
       "    </tr>\n",
       "    <tr>\n",
       "      <th>1472</th>\n",
       "      <td>2009-01-02</td>\n",
       "      <td>ULTA.O</td>\n",
       "      <td>NaN</td>\n",
       "    </tr>\n",
       "    <tr>\n",
       "      <th>1641</th>\n",
       "      <td>2009-01-05</td>\n",
       "      <td>AIPC.O</td>\n",
       "      <td>NaN</td>\n",
       "    </tr>\n",
       "    <tr>\n",
       "      <th>2013</th>\n",
       "      <td>2009-01-05</td>\n",
       "      <td>DCOM.O</td>\n",
       "      <td>NaN</td>\n",
       "    </tr>\n",
       "    <tr>\n",
       "      <th>3062</th>\n",
       "      <td>2009-01-05</td>\n",
       "      <td>ULTA.O</td>\n",
       "      <td>NaN</td>\n",
       "    </tr>\n",
       "  </tbody>\n",
       "</table>\n",
       "</div>"
      ],
      "text/plain": [
       "           time assetCode  returnsClosePrevMktres1\n",
       "167  2009-01-02    BBND.O                      NaN\n",
       "739  2009-01-02    IIVI.O                      NaN\n",
       "1472 2009-01-02    ULTA.O                      NaN\n",
       "1641 2009-01-05    AIPC.O                      NaN\n",
       "2013 2009-01-05    DCOM.O                      NaN\n",
       "3062 2009-01-05    ULTA.O                      NaN"
      ]
     },
     "execution_count": 29,
     "metadata": {},
     "output_type": "execute_result"
    }
   ],
   "source": [
    "df_train[['time','assetCode','returnsClosePrevMktres1']][nullcols].head(6)"
   ]
  },
  {
   "cell_type": "code",
   "execution_count": 30,
   "metadata": {},
   "outputs": [],
   "source": [
    "def imputation(df):\n",
    "    df['sentimentClass']=df['sentimentClass'].fillna(0)\n",
    "    df.urgency=df.urgency.fillna(3)\n",
    "\n",
    "    for cols in df.columns:\n",
    "        if(df[cols].dtype=='float64' or df[cols].dtype=='float32'):\n",
    "            df[cols] = df.groupby(\"assetCode\")[cols].transform(lambda x: x.fillna(x.median()))\n",
    "    for cols in df.columns:\n",
    "        if(df[cols].dtype=='float64' or df[cols].dtype=='float32'):\n",
    "            df[cols][df[cols].isnull()]=df[cols].median()\n",
    "        elif(df[cols].dtype=='bool' or df[cols].dtype.name=='category'):\n",
    "            df[cols][df[cols].isnull()]=df[cols].value_counts().argmax()        \n",
    "\n",
    "    df['marketCommentary'][df['marketCommentary'].isnull()]=df['marketCommentary'].value_counts().argmax()\n",
    "    return df\n"
   ]
  },
  {
   "cell_type": "code",
   "execution_count": 31,
   "metadata": {},
   "outputs": [
    {
     "name": "stderr",
     "output_type": "stream",
     "text": [
      "C:\\Users\\chinn\\Anaconda3\\lib\\site-packages\\numpy\\lib\\nanfunctions.py:1019: RuntimeWarning: Mean of empty slice\n",
      "  return np.nanmean(a, axis, out=out, keepdims=keepdims)\n",
      "C:\\Users\\chinn\\Anaconda3\\lib\\site-packages\\ipykernel_launcher.py:10: SettingWithCopyWarning: \n",
      "A value is trying to be set on a copy of a slice from a DataFrame\n",
      "\n",
      "See the caveats in the documentation: http://pandas.pydata.org/pandas-docs/stable/indexing.html#indexing-view-versus-copy\n",
      "  # Remove the CWD from sys.path while we load stuff.\n",
      "C:\\Users\\chinn\\Anaconda3\\lib\\site-packages\\ipykernel_launcher.py:12: FutureWarning: 'argmax' is deprecated, use 'idxmax' instead. The behavior of 'argmax'\n",
      "will be corrected to return the positional maximum in the future.\n",
      "Use 'series.values.argmax' to get the position of the maximum now.\n",
      "  if sys.path[0] == '':\n",
      "C:\\Users\\chinn\\Anaconda3\\lib\\site-packages\\ipykernel_launcher.py:12: SettingWithCopyWarning: \n",
      "A value is trying to be set on a copy of a slice from a DataFrame\n",
      "\n",
      "See the caveats in the documentation: http://pandas.pydata.org/pandas-docs/stable/indexing.html#indexing-view-versus-copy\n",
      "  if sys.path[0] == '':\n",
      "C:\\Users\\chinn\\Anaconda3\\lib\\site-packages\\ipykernel_launcher.py:14: FutureWarning: 'argmax' is deprecated, use 'idxmax' instead. The behavior of 'argmax'\n",
      "will be corrected to return the positional maximum in the future.\n",
      "Use 'series.values.argmax' to get the position of the maximum now.\n",
      "  \n",
      "C:\\Users\\chinn\\Anaconda3\\lib\\site-packages\\ipykernel_launcher.py:14: SettingWithCopyWarning: \n",
      "A value is trying to be set on a copy of a slice from a DataFrame\n",
      "\n",
      "See the caveats in the documentation: http://pandas.pydata.org/pandas-docs/stable/indexing.html#indexing-view-versus-copy\n",
      "  \n"
     ]
    }
   ],
   "source": [
    "df_train=imputation(df_train)"
   ]
  },
  {
   "cell_type": "code",
   "execution_count": 32,
   "metadata": {},
   "outputs": [
    {
     "data": {
      "text/html": [
       "<div>\n",
       "<style scoped>\n",
       "    .dataframe tbody tr th:only-of-type {\n",
       "        vertical-align: middle;\n",
       "    }\n",
       "\n",
       "    .dataframe tbody tr th {\n",
       "        vertical-align: top;\n",
       "    }\n",
       "\n",
       "    .dataframe thead th {\n",
       "        text-align: right;\n",
       "    }\n",
       "</style>\n",
       "<table border=\"1\" class=\"dataframe\">\n",
       "  <thead>\n",
       "    <tr style=\"text-align: right;\">\n",
       "      <th></th>\n",
       "      <th>time</th>\n",
       "      <th>assetCode</th>\n",
       "      <th>returnsClosePrevMktres1</th>\n",
       "    </tr>\n",
       "  </thead>\n",
       "  <tbody>\n",
       "    <tr>\n",
       "      <th>167</th>\n",
       "      <td>2009-01-02</td>\n",
       "      <td>BBND.O</td>\n",
       "      <td>-0.002200</td>\n",
       "    </tr>\n",
       "    <tr>\n",
       "      <th>739</th>\n",
       "      <td>2009-01-02</td>\n",
       "      <td>IIVI.O</td>\n",
       "      <td>-0.000287</td>\n",
       "    </tr>\n",
       "    <tr>\n",
       "      <th>1472</th>\n",
       "      <td>2009-01-02</td>\n",
       "      <td>ULTA.O</td>\n",
       "      <td>0.000449</td>\n",
       "    </tr>\n",
       "    <tr>\n",
       "      <th>1641</th>\n",
       "      <td>2009-01-05</td>\n",
       "      <td>AIPC.O</td>\n",
       "      <td>0.003477</td>\n",
       "    </tr>\n",
       "    <tr>\n",
       "      <th>2013</th>\n",
       "      <td>2009-01-05</td>\n",
       "      <td>DCOM.O</td>\n",
       "      <td>0.001298</td>\n",
       "    </tr>\n",
       "    <tr>\n",
       "      <th>3062</th>\n",
       "      <td>2009-01-05</td>\n",
       "      <td>ULTA.O</td>\n",
       "      <td>0.000449</td>\n",
       "    </tr>\n",
       "  </tbody>\n",
       "</table>\n",
       "</div>"
      ],
      "text/plain": [
       "           time assetCode  returnsClosePrevMktres1\n",
       "167  2009-01-02    BBND.O                -0.002200\n",
       "739  2009-01-02    IIVI.O                -0.000287\n",
       "1472 2009-01-02    ULTA.O                 0.000449\n",
       "1641 2009-01-05    AIPC.O                 0.003477\n",
       "2013 2009-01-05    DCOM.O                 0.001298\n",
       "3062 2009-01-05    ULTA.O                 0.000449"
      ]
     },
     "execution_count": 32,
     "metadata": {},
     "output_type": "execute_result"
    }
   ],
   "source": [
    "df_train[['time','assetCode','returnsClosePrevMktres1']][nullcols].head(6)"
   ]
  },
  {
   "cell_type": "code",
   "execution_count": 30,
   "metadata": {},
   "outputs": [
    {
     "data": {
      "text/plain": [
       "time                        0\n",
       "assetCode                   0\n",
       "assetName                   0\n",
       "volume                      0\n",
       "close                       0\n",
       "open                        0\n",
       "returnsClosePrevRaw1        0\n",
       "returnsOpenPrevRaw1         0\n",
       "returnsClosePrevMktres1     0\n",
       "returnsOpenPrevMktres1      0\n",
       "returnsClosePrevRaw10       0\n",
       "returnsOpenPrevRaw10        0\n",
       "returnsClosePrevMktres10    0\n",
       "returnsOpenPrevMktres10     0\n",
       "returnsOpenNextMktres10     0\n",
       "universe                    0\n",
       "urgency                     0\n",
       "bodySize                    0\n",
       "companyCount                0\n",
       "marketCommentary            0\n",
       "sentenceCount               0\n",
       "wordCount                   0\n",
       "relevance                   0\n",
       "sentimentClass              0\n",
       "sentimentNegative           0\n",
       "sentimentNeutral            0\n",
       "sentimentPositive           0\n",
       "sentimentWordCount          0\n",
       "noveltyCount3D              0\n",
       "volumeCounts3D              0\n",
       "headlinelength              0\n",
       "dtype: int64"
      ]
     },
     "execution_count": 30,
     "metadata": {},
     "output_type": "execute_result"
    }
   ],
   "source": [
    "df_train.isnull().sum()"
   ]
  },
  {
   "cell_type": "code",
   "execution_count": 31,
   "metadata": {},
   "outputs": [
    {
     "name": "stderr",
     "output_type": "stream",
     "text": [
      "C:\\Users\\chinn\\Anaconda3\\lib\\site-packages\\ipykernel_launcher.py:10: SettingWithCopyWarning: \n",
      "A value is trying to be set on a copy of a slice from a DataFrame\n",
      "\n",
      "See the caveats in the documentation: http://pandas.pydata.org/pandas-docs/stable/indexing.html#indexing-view-versus-copy\n",
      "  # Remove the CWD from sys.path while we load stuff.\n",
      "C:\\Users\\chinn\\Anaconda3\\lib\\site-packages\\ipykernel_launcher.py:12: FutureWarning: 'argmax' is deprecated, use 'idxmax' instead. The behavior of 'argmax'\n",
      "will be corrected to return the positional maximum in the future.\n",
      "Use 'series.values.argmax' to get the position of the maximum now.\n",
      "  if sys.path[0] == '':\n",
      "C:\\Users\\chinn\\Anaconda3\\lib\\site-packages\\ipykernel_launcher.py:12: SettingWithCopyWarning: \n",
      "A value is trying to be set on a copy of a slice from a DataFrame\n",
      "\n",
      "See the caveats in the documentation: http://pandas.pydata.org/pandas-docs/stable/indexing.html#indexing-view-versus-copy\n",
      "  if sys.path[0] == '':\n",
      "C:\\Users\\chinn\\Anaconda3\\lib\\site-packages\\ipykernel_launcher.py:14: FutureWarning: 'argmax' is deprecated, use 'idxmax' instead. The behavior of 'argmax'\n",
      "will be corrected to return the positional maximum in the future.\n",
      "Use 'series.values.argmax' to get the position of the maximum now.\n",
      "  \n",
      "C:\\Users\\chinn\\Anaconda3\\lib\\site-packages\\ipykernel_launcher.py:14: SettingWithCopyWarning: \n",
      "A value is trying to be set on a copy of a slice from a DataFrame\n",
      "\n",
      "See the caveats in the documentation: http://pandas.pydata.org/pandas-docs/stable/indexing.html#indexing-view-versus-copy\n",
      "  \n"
     ]
    }
   ],
   "source": [
    "df_test=imputation(df_test)"
   ]
  },
  {
   "cell_type": "code",
   "execution_count": 32,
   "metadata": {},
   "outputs": [],
   "source": [
    "return_features = ['returnsClosePrevMktres10','returnsClosePrevRaw10','open','close']"
   ]
  },
  {
   "cell_type": "code",
   "execution_count": 33,
   "metadata": {},
   "outputs": [],
   "source": [
    "def generate_features(df,window_size=[3,7,14],shift_size=1):\n",
    "    grouped=df.groupby('assetCode')\n",
    "    #----------------------------lag features-------------------------------------------\n",
    "    for col in return_features:\n",
    "        for window in window_size:\n",
    "            df['%s_lag_%s_median'%(col,window)] = grouped[col].shift(shift_size).rolling(window=window).mean()\n",
    "            df['%s_lag_%s_max'%(col,window)] = grouped[col].shift(shift_size).rolling(window=window).max()\n",
    "            df['%s_lag_%s_min'%(col,window)] = grouped[col].shift(shift_size).rolling(window=window).min()\n",
    "   \n",
    "   # df['betareturn1']=(df['returnsClosePrevRaw1'] - df['returnsClosePrevMktres1']) / (df[returnraw1] - df[returnMktres1]).groupby(\"time\").mean()\n",
    "    df['closeopentovolume']=(df['close']+df['open'])*df['volume']\n",
    "    df['meanvolume']=grouped['volume'].mean()\n",
    "    df['meanclose']=grouped['close'].mean()\n",
    "    df['stdclose']=grouped['close'].std()\n",
    "    #-----------------------------time features----------------------------------------------\n",
    "    df['dayofweek']=df.time.dt.dayofweek\n",
    "    df['quarter']=df.time.dt.quarter\n",
    "    df['month']=df.time.dt.month\n",
    "    df['year']=df.time.dt.year\n",
    "    #---------------------------quant features---------------------------------------------------\n",
    "    new_column = grouped.apply(lambda x: x['close'].ewm(span=30).mean())\n",
    "    df[\"close_30EMA\"] = new_column.reset_index(level=0, drop=True)\n",
    "    new_column = grouped.apply(lambda x: x['close'].ewm(span=26).mean())\n",
    "    df[\"close_26EMA\"] = new_column.reset_index(level=0, drop=True)\n",
    "    new_column = grouped.apply(lambda x: x['close'].ewm(span=12).mean())\n",
    "    df[\"close_12EMA\"] = new_column.reset_index(level=0, drop=True)\n",
    "    df['MACD'] = df['close_12EMA'] - df['close_26EMA']\n",
    "    no_of_std = 2\n",
    "    #--------------------------bolinger band---------------------------------------\n",
    "    new_column=grouped['close'].rolling(window=7).mean()\n",
    "    df['MA_7MA'] =  new_column.reset_index(level=0, drop=True)\n",
    "    new_column=grouped['close'].rolling(window=7).std()\n",
    "    df['MA_7MA_std'] =  new_column.reset_index(level=0, drop=True)\n",
    "    df['MA_7MA_BB_high'] = df['MA_7MA'] + no_of_std * df['MA_7MA_std']\n",
    "    df['MA_7MA_BB_low'] = df['MA_7MA'] - no_of_std * df['MA_7MA_std']\n",
    "    return df.fillna(-1)\n",
    "    \n",
    "    "
   ]
  },
  {
   "cell_type": "code",
   "execution_count": 34,
   "metadata": {},
   "outputs": [],
   "source": [
    "df_train=generate_features(df_train)\n",
    "df_test=generate_features(df_test)"
   ]
  },
  {
   "cell_type": "code",
   "execution_count": 35,
   "metadata": {},
   "outputs": [],
   "source": [
    "def RSI(df, column=\"close\", period=14):\n",
    "    # wilder's RSI\n",
    "    delta = df.groupby('assetCode')[column].diff()\n",
    "    up, down = delta.copy(), delta.copy()\n",
    "    up[up < 0] = 0\n",
    "    down[down > 0] = 0\n",
    "    rUp = up.ewm(com=period - 1,  adjust=False).mean()\n",
    "    rDown = down.ewm(com=period - 1, adjust=False).mean().abs()\n",
    "    rsi = 100 - 100 / (1 + rUp / rDown)    \n",
    "    return df.join(rsi.to_frame('RSI'))\n"
   ]
  },
  {
   "cell_type": "code",
   "execution_count": 36,
   "metadata": {},
   "outputs": [],
   "source": [
    "df_train=RSI(df_train)\n",
    "df_test=RSI(df_test)"
   ]
  },
  {
   "cell_type": "code",
   "execution_count": 37,
   "metadata": {},
   "outputs": [],
   "source": [
    "def beta(df):\n",
    "    \n",
    "    df['raw_median'] = df.groupby('time').returnsOpenPrevRaw10.transform('median')\n",
    "    df['xy'] = df.returnsOpenPrevRaw10 * df.raw_median\n",
    "\n",
    "    roll = df.groupby('assetCode').rolling(window=20)\n",
    "\n",
    "    df['cov_xy'] = (\n",
    "      (roll.xy.mean() - roll.returnsOpenPrevRaw10.mean() * roll.raw_median.mean()) * 20 / 19\n",
    "      ).reset_index(0,drop=True)\n",
    "\n",
    "    df['var_y'] = roll.raw_median.var().reset_index(0,drop=True)\n",
    "    df['beta'] = (df['cov_xy'] /df['var_y'])\n",
    "    df['beta'] = df.groupby('assetCode')['beta'].shift(1)\n",
    "    df.drop(['var_y','xy','raw_median','cov_xy'],axis=1,inplace=True)\n",
    "    return df.fillna(-1)\n"
   ]
  },
  {
   "cell_type": "code",
   "execution_count": 38,
   "metadata": {},
   "outputs": [],
   "source": [
    "df_train=beta(df_train)\n",
    "df_test=beta(df_test)"
   ]
  },
  {
   "cell_type": "code",
   "execution_count": 42,
   "metadata": {},
   "outputs": [],
   "source": [
    "df_train['sin_quarter'] = np.sin(2*np.pi*df_train.quarter/4)"
   ]
  },
  {
   "cell_type": "code",
   "execution_count": 43,
   "metadata": {},
   "outputs": [],
   "source": [
    "df_test['sin_quarter'] = np.sin(2*np.pi*df_test.quarter/4)"
   ]
  },
  {
   "cell_type": "code",
   "execution_count": 44,
   "metadata": {},
   "outputs": [],
   "source": [
    "df_test['sin_dayofweek']=np.sin(2*np.pi*df_test.dayofweek/7)\n",
    "df_train['sin_dayofweek']=np.sin(2*np.pi*df_train.dayofweek/7)"
   ]
  },
  {
   "cell_type": "code",
   "execution_count": 45,
   "metadata": {},
   "outputs": [],
   "source": [
    "df_test['sin_month']=np.sin(2*np.pi*df_test.month/12)\n",
    "df_train['sin_month']=np.sin(2*np.pi*df_train.month/12)"
   ]
  },
  {
   "cell_type": "code",
   "execution_count": 48,
   "metadata": {},
   "outputs": [
    {
     "data": {
      "text/plain": [
       "Index(['time', 'assetCode', 'assetName', 'volume', 'close', 'open',\n",
       "       'returnsClosePrevRaw1', 'returnsOpenPrevRaw1',\n",
       "       'returnsClosePrevMktres1', 'returnsOpenPrevMktres1',\n",
       "       'returnsClosePrevRaw10', 'returnsOpenPrevRaw10',\n",
       "       'returnsClosePrevMktres10', 'returnsOpenPrevMktres10',\n",
       "       'returnsOpenNextMktres10', 'universe', 'urgency', 'bodySize',\n",
       "       'companyCount', 'marketCommentary', 'sentenceCount', 'wordCount',\n",
       "       'relevance', 'sentimentClass', 'sentimentNegative', 'sentimentNeutral',\n",
       "       'sentimentPositive', 'sentimentWordCount', 'noveltyCount3D',\n",
       "       'volumeCounts3D', 'headlinelength',\n",
       "       'returnsClosePrevMktres10_lag_3_median',\n",
       "       'returnsClosePrevMktres10_lag_3_max',\n",
       "       'returnsClosePrevMktres10_lag_3_min',\n",
       "       'returnsClosePrevMktres10_lag_7_median',\n",
       "       'returnsClosePrevMktres10_lag_7_max',\n",
       "       'returnsClosePrevMktres10_lag_7_min',\n",
       "       'returnsClosePrevMktres10_lag_14_median',\n",
       "       'returnsClosePrevMktres10_lag_14_max',\n",
       "       'returnsClosePrevMktres10_lag_14_min',\n",
       "       'returnsClosePrevRaw10_lag_3_median', 'returnsClosePrevRaw10_lag_3_max',\n",
       "       'returnsClosePrevRaw10_lag_3_min', 'returnsClosePrevRaw10_lag_7_median',\n",
       "       'returnsClosePrevRaw10_lag_7_max', 'returnsClosePrevRaw10_lag_7_min',\n",
       "       'returnsClosePrevRaw10_lag_14_median',\n",
       "       'returnsClosePrevRaw10_lag_14_max', 'returnsClosePrevRaw10_lag_14_min',\n",
       "       'open_lag_3_median', 'open_lag_3_max', 'open_lag_3_min',\n",
       "       'open_lag_7_median', 'open_lag_7_max', 'open_lag_7_min',\n",
       "       'open_lag_14_median', 'open_lag_14_max', 'open_lag_14_min',\n",
       "       'close_lag_3_median', 'close_lag_3_max', 'close_lag_3_min',\n",
       "       'close_lag_7_median', 'close_lag_7_max', 'close_lag_7_min',\n",
       "       'close_lag_14_median', 'close_lag_14_max', 'close_lag_14_min',\n",
       "       'closeopentovolume', 'meanvolume', 'meanclose', 'stdclose', 'dayofweek',\n",
       "       'quarter', 'month', 'year', 'close_30EMA', 'close_26EMA', 'close_12EMA',\n",
       "       'MACD', 'MA_7MA', 'MA_7MA_std', 'MA_7MA_BB_high', 'MA_7MA_BB_low',\n",
       "       'RSI', 'beta', 'sin_quarter', 'sin_dayofweek', 'sin_month'],\n",
       "      dtype='object')"
      ]
     },
     "execution_count": 48,
     "metadata": {},
     "output_type": "execute_result"
    }
   ],
   "source": [
    "df_train.columns"
   ]
  },
  {
   "cell_type": "code",
   "execution_count": 47,
   "metadata": {},
   "outputs": [],
   "source": [
    "num_cols=['volume', 'close', 'open',\n",
    "       'returnsClosePrevRaw1', 'returnsOpenPrevRaw1',\n",
    "       'returnsClosePrevMktres1', 'returnsOpenPrevMktres1',\n",
    "       'returnsClosePrevRaw10', 'returnsOpenPrevRaw10',\n",
    "       'returnsClosePrevMktres10', 'returnsOpenPrevMktres10',\n",
    "       'returnsClosePrevMktres10_lag_3_median',\n",
    "       'returnsClosePrevMktres10_lag_3_max',\n",
    "       'returnsClosePrevMktres10_lag_3_min',\n",
    "       'returnsClosePrevMktres10_lag_7_median',\n",
    "       'returnsClosePrevMktres10_lag_7_max',\n",
    "       'returnsClosePrevMktres10_lag_7_min',\n",
    "       'returnsClosePrevMktres10_lag_14_median',\n",
    "       'returnsClosePrevMktres10_lag_14_max',\n",
    "       'returnsClosePrevMktres10_lag_14_min',\n",
    "       'returnsClosePrevRaw10_lag_3_median', 'returnsClosePrevRaw10_lag_3_max',\n",
    "       'returnsClosePrevRaw10_lag_3_min', 'returnsClosePrevRaw10_lag_7_median',\n",
    "       'returnsClosePrevRaw10_lag_7_max', 'returnsClosePrevRaw10_lag_7_min',\n",
    "       'returnsClosePrevRaw10_lag_14_median',\n",
    "       'returnsClosePrevRaw10_lag_14_max', 'returnsClosePrevRaw10_lag_14_min',\n",
    "       'open_lag_3_median', 'open_lag_3_max', 'open_lag_3_min',\n",
    "       'open_lag_7_median', 'open_lag_7_max', 'open_lag_7_min',\n",
    "       'open_lag_14_median', 'open_lag_14_max', 'open_lag_14_min',\n",
    "       'close_lag_3_median', 'close_lag_3_max', 'close_lag_3_min',\n",
    "       'close_lag_7_median', 'close_lag_7_max', 'close_lag_7_min',\n",
    "       'close_lag_14_median', 'close_lag_14_max', 'close_lag_14_min',\n",
    "       'closeopentovolume', 'meanvolume', 'meanclose', 'stdclose', 'close_30EMA', 'close_26EMA', 'close_12EMA',\n",
    "       'MACD', 'MA_7MA', 'MA_7MA_std', 'MA_7MA_BB_high', 'MA_7MA_BB_low',\n",
    "       'RSI', 'beta', 'sin_quarter', 'sin_dayofweek', 'sin_month']"
   ]
  },
  {
   "cell_type": "code",
   "execution_count": 49,
   "metadata": {},
   "outputs": [
    {
     "name": "stderr",
     "output_type": "stream",
     "text": [
      "C:\\Users\\chinn\\Anaconda3\\lib\\site-packages\\sklearn\\preprocessing\\data.py:625: DataConversionWarning: Data with input dtype float32, float64 were all converted to float64 by StandardScaler.\n",
      "  return self.partial_fit(X, y)\n",
      "C:\\Users\\chinn\\Anaconda3\\lib\\site-packages\\sklearn\\base.py:462: DataConversionWarning: Data with input dtype float32, float64 were all converted to float64 by StandardScaler.\n",
      "  return self.fit(X, **fit_params).transform(X)\n",
      "C:\\Users\\chinn\\Anaconda3\\lib\\site-packages\\ipykernel_launcher.py:4: DataConversionWarning: Data with input dtype float32, float64 were all converted to float64 by StandardScaler.\n",
      "  after removing the cwd from sys.path.\n"
     ]
    }
   ],
   "source": [
    "from sklearn.preprocessing import StandardScaler\n",
    "scaler=StandardScaler()\n",
    "df_train[num_cols]=scaler.fit_transform(df_train[num_cols])\n",
    "df_test[num_cols]=scaler.transform(df_test[num_cols])"
   ]
  },
  {
   "cell_type": "code",
   "execution_count": 50,
   "metadata": {},
   "outputs": [],
   "source": [
    "df_train.to_csv('train.csv')\n",
    "df_test.to_csv('test.csv')"
   ]
  }
 ],
 "metadata": {
  "kernelspec": {
   "display_name": "Python 3",
   "language": "python",
   "name": "python3"
  },
  "language_info": {
   "codemirror_mode": {
    "name": "ipython",
    "version": 3
   },
   "file_extension": ".py",
   "mimetype": "text/x-python",
   "name": "python",
   "nbconvert_exporter": "python",
   "pygments_lexer": "ipython3",
   "version": "3.6.7"
  }
 },
 "nbformat": 4,
 "nbformat_minor": 2
}
